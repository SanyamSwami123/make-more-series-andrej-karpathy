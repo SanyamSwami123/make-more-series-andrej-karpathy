{
  "nbformat": 4,
  "nbformat_minor": 0,
  "metadata": {
    "colab": {
      "provenance": [],
      "authorship_tag": "ABX9TyP2jVO54yF6vnowF64fHBVJ",
      "include_colab_link": true
    },
    "kernelspec": {
      "name": "python3",
      "display_name": "Python 3"
    },
    "language_info": {
      "name": "python"
    }
  },
  "cells": [
    {
      "cell_type": "markdown",
      "metadata": {
        "id": "view-in-github",
        "colab_type": "text"
      },
      "source": [
        "<a href=\"https://colab.research.google.com/github/SanyamSwami123/make-more-series-andrej-karpathy/blob/main/3_MLP.ipynb\" target=\"_parent\"><img src=\"https://colab.research.google.com/assets/colab-badge.svg\" alt=\"Open In Colab\"/></a>"
      ]
    },
    {
      "cell_type": "code",
      "execution_count": null,
      "metadata": {
        "id": "3gdZaxmWu-v_"
      },
      "outputs": [],
      "source": []
    },
    {
      "cell_type": "markdown",
      "source": [
        "**MLP**: Multilayer perceptron, character level language model.\n",
        "\n",
        "Prediction from bigram model is not very good because it takes one character of the context, that is why we are going with **MLP**\n",
        "\n",
        "Here we see:\n",
        "1. model training\n",
        "2. learning rate tuninig\n",
        "3. hyperparameters\n",
        "4. evaluation\n",
        "5. triain/dev/test splits\n",
        "6. under/overfitting.\n",
        "\n",
        "MLP, [Paper](https://www.jmlr.org/papers/volume3/bengio03a/bengio03a.pdf).\n",
        "\n",
        "- In MLP, we are taking 3 previous words, trying to predict the next word(i.e. 4th word) in the sequence."
      ],
      "metadata": {
        "id": "PWInG2C5u_mC"
      }
    },
    {
      "cell_type": "code",
      "source": [],
      "metadata": {
        "id": "h3SGXoY3vt2E"
      },
      "execution_count": null,
      "outputs": []
    },
    {
      "cell_type": "markdown",
      "source": [
        "# lets Start coding"
      ],
      "metadata": {
        "id": "Rsd4iTRo1RGq"
      }
    },
    {
      "cell_type": "code",
      "source": [
        "import random\n",
        "\n",
        "import torch\n",
        "import torch.nn.functional as F\n",
        "import matplotlib.pyplot as plt # for making figures\n",
        "%matplotlib inline"
      ],
      "metadata": {
        "id": "HSMq71L01S9y"
      },
      "execution_count": 158,
      "outputs": []
    },
    {
      "cell_type": "code",
      "source": [
        "# read in all the words\n",
        "words = open('names.txt', 'r').read().splitlines()\n",
        "words[:8]"
      ],
      "metadata": {
        "colab": {
          "base_uri": "https://localhost:8080/"
        },
        "id": "g_4t_IWA1j2e",
        "outputId": "3d0e6037-d5b7-47d6-908a-5aeff59d5bf2"
      },
      "execution_count": 159,
      "outputs": [
        {
          "output_type": "execute_result",
          "data": {
            "text/plain": [
              "['emma', 'olivia', 'ava', 'isabella', 'sophia', 'charlotte', 'mia', 'amelia']"
            ]
          },
          "metadata": {},
          "execution_count": 159
        }
      ]
    },
    {
      "cell_type": "code",
      "source": [
        "len(words)"
      ],
      "metadata": {
        "colab": {
          "base_uri": "https://localhost:8080/"
        },
        "id": "6E9y7gWt1oFv",
        "outputId": "157828e0-fa95-4386-8468-ee3ff72dca2a"
      },
      "execution_count": 160,
      "outputs": [
        {
          "output_type": "execute_result",
          "data": {
            "text/plain": [
              "32033"
            ]
          },
          "metadata": {},
          "execution_count": 160
        }
      ]
    },
    {
      "cell_type": "code",
      "source": [
        "# build the vocabulary of characters and mapping to/from integers\n",
        "Chars = sorted(list(set(''.join(words))))\n",
        "stoi = {s:i+1 for i,s in enumerate(Chars)}\n",
        "stoi['.'] = 0\n",
        "itos = {i:s for s,i in stoi.items()}\n",
        "print(itos)"
      ],
      "metadata": {
        "colab": {
          "base_uri": "https://localhost:8080/"
        },
        "id": "WpcTajhx1-Rg",
        "outputId": "4ddbe012-ef4b-4e00-d4d2-fb88853b9fbc"
      },
      "execution_count": 161,
      "outputs": [
        {
          "output_type": "stream",
          "name": "stdout",
          "text": [
            "{1: 'a', 2: 'b', 3: 'c', 4: 'd', 5: 'e', 6: 'f', 7: 'g', 8: 'h', 9: 'i', 10: 'j', 11: 'k', 12: 'l', 13: 'm', 14: 'n', 15: 'o', 16: 'p', 17: 'q', 18: 'r', 19: 's', 20: 't', 21: 'u', 22: 'v', 23: 'w', 24: 'x', 25: 'y', 26: 'z', 0: '.'}\n"
          ]
        }
      ]
    },
    {
      "cell_type": "code",
      "source": [
        "# build dataset\n",
        "def build_dataset(words):\n",
        "  block_size = 3 # context length: how many characters do we take to predict the next one?\n",
        "  X, Y = [], []\n",
        "  for w in words:\n",
        "\n",
        "    # print(w)\n",
        "    context  = [0] * block_size # padded context of 0 tokens\n",
        "    for ch in w + '.':\n",
        "      ix = stoi[ch]\n",
        "      X.append(context)\n",
        "      Y.append(ix)\n",
        "      # print(''.join(itos[i] for i in context), '--->', itos[ix])\n",
        "      context = context[1:] + [ix] # crop and append\n",
        "  X = torch.tensor(X)\n",
        "  Y = torch.tensor(Y)\n",
        "  return X,Y\n",
        "\n",
        "\n",
        "random.seed(42)\n",
        "random.shuffle(words)\n",
        "n1 = int(0.8*len(words))\n",
        "n2 = int(0.9*len(words))\n",
        "\n",
        "Xtr, Ytr = build_dataset(words[:n1])\n",
        "Xdev, Ydev = build_dataset(words[n1:n2])\n",
        "Xte, Yte = build_dataset(words[n2:])"
      ],
      "metadata": {
        "id": "qz-ibD2EY1SQ"
      },
      "execution_count": 162,
      "outputs": []
    },
    {
      "cell_type": "code",
      "source": [
        "\n",
        "Xtr.shape, Xdev.shape, Xte.shape, Ytr.shape, Ydev.shape, Yte.shape"
      ],
      "metadata": {
        "colab": {
          "base_uri": "https://localhost:8080/"
        },
        "id": "OKOiGILg3f2Q",
        "outputId": "eebd2ed7-6acd-4c26-885d-bbf92e4295d8"
      },
      "execution_count": 163,
      "outputs": [
        {
          "output_type": "execute_result",
          "data": {
            "text/plain": [
              "(torch.Size([182625, 3]),\n",
              " torch.Size([22655, 3]),\n",
              " torch.Size([22866, 3]),\n",
              " torch.Size([182625]),\n",
              " torch.Size([22655]),\n",
              " torch.Size([22866]))"
            ]
          },
          "metadata": {},
          "execution_count": 163
        }
      ]
    },
    {
      "cell_type": "code",
      "source": [
        "g = torch.Generator().manual_seed(2147483647) # for reproducibility\n",
        "C = torch.randn((27, 10), generator=g)# lookup table so each one of 27 chars we have 10 dimensions\n",
        "W1 = torch.randn((30, 200), generator=g) # we are passing this layer (3,10) thus input will  be 30 note: ( , ) here 1st dimension ie first place always takes input and 2nd place takes the no. neuron\n",
        "b1 = torch.randn(200, generator=g)\n",
        "W2 = torch.randn((200, 27), generator= g) #final layer softmax\n",
        "b2 = torch.randn(27, generator= g)\n",
        "\n",
        "parameters = [C, W1, b1, W2, b2]\n",
        "\n",
        "for p in parameters:\n",
        "  p.requires_grad = True"
      ],
      "metadata": {
        "id": "7qqA1JCd7JCU"
      },
      "execution_count": 165,
      "outputs": []
    },
    {
      "cell_type": "code",
      "source": [
        "sum(p.nelement() for p in parameters) # number of parameter in total"
      ],
      "metadata": {
        "colab": {
          "base_uri": "https://localhost:8080/"
        },
        "id": "YNtwoQ3zLszt",
        "outputId": "2fdd6bed-5127-461c-a83f-05ed69f26d68"
      },
      "execution_count": 155,
      "outputs": [
        {
          "output_type": "execute_result",
          "data": {
            "text/plain": [
              "11897"
            ]
          },
          "metadata": {},
          "execution_count": 155
        }
      ]
    },
    {
      "cell_type": "code",
      "source": [
        "# training loop\n",
        "lossi = []\n",
        "stepi = []\n",
        "for _ in  range(200000):\n",
        "  # minibatch construct\n",
        "  ix = torch.randint(0, Xtr.shape[0], (32,))\n",
        "\n",
        "  # forward pass\n",
        "  emb = C[Xtr[ix]] # [32,3,2] emb.shape # 3 inputs with 27 character each located at 2 dimensions\n",
        "  h = torch.tanh(emb.view(-1, 30) @ W1 + b1) # [32,100] view is more efficient way then torch.cat(torch.unbind(emb, 1), 1)# resource:https://pytorch.org/docs/stable/generated/torch.unbind.html, as it does not store any storage\n",
        "  logits = h @ W2 + b2 # [32,27]\n",
        "  loss = F.cross_entropy(logits, Ytr[ix]) #classification efficient loss function always use this one for Class.\n",
        "\n",
        "  # backward pass\n",
        "  for p in parameters:\n",
        "    p.grad = None\n",
        "  loss.backward()\n",
        "\n",
        "  #step/update the params\n",
        "  lr= 0.1 if _<100000 else 0.01 # learning rate decay\n",
        "  for p in parameters:\n",
        "    p.data += -lr * p.grad # find good lre you will find different and more good ways online\n",
        "\n",
        "  stepi.append(_)\n",
        "  lossi.append(loss.log10().item())\n",
        "# print(loss.item())"
      ],
      "metadata": {
        "id": "gNDnMzeW-Xrz"
      },
      "execution_count": 170,
      "outputs": []
    },
    {
      "cell_type": "code",
      "source": [
        "plt.plot(stepi, lossi)\n",
        "plt.show()"
      ],
      "metadata": {
        "colab": {
          "base_uri": "https://localhost:8080/",
          "height": 430
        },
        "id": "WtbYIKIievuA",
        "outputId": "503ed762-5845-4e53-8a4c-f2f444afdb17"
      },
      "execution_count": 171,
      "outputs": [
        {
          "output_type": "display_data",
          "data": {
            "text/plain": [
              "<Figure size 640x480 with 1 Axes>"
            ],
            "image/png": "[encoded data removed]"
          },
          "metadata": {}
        }
      ]
    },
    {
      "cell_type": "code",
      "source": [
        "emb = C[Xtr] # [32,3,2] emb.shape # 3 inputs with 27 character each located at 2 dimensions\n",
        "h = torch.tanh(emb.view(-1, 30) @ W1 + b1) # [32,100] view is more efficient way then torch.cat(torch.unbind(emb, 1), 1)# resource:https://pytorch.org/docs/stable/generated/torch.unbind.html, as it does not store any storage\n",
        "logits = h @ W2 + b2 # [32,27]\n",
        "loss = F.cross_entropy(logits, Ytr) #classification efficient loss function always use this one for Class.\n",
        "print(loss.item())"
      ],
      "metadata": {
        "colab": {
          "base_uri": "https://localhost:8080/"
        },
        "id": "0DHj16KRdWOD",
        "outputId": "5d554d7a-f4ca-492c-d68d-4400e7cf568e"
      },
      "execution_count": 172,
      "outputs": [
        {
          "output_type": "stream",
          "name": "stdout",
          "text": [
            "2.0887985229492188\n"
          ]
        }
      ]
    },
    {
      "cell_type": "code",
      "source": [
        "emb = C[Xdev] # [32,3,2] emb.shape # 3 inputs with 27 character each located at 2 dimensions\n",
        "h = torch.tanh(emb.view(-1, 30) @ W1 + b1) # [32,100] view is more efficient way then torch.cat(torch.unbind(emb, 1), 1)# resource:https://pytorch.org/docs/stable/generated/torch.unbind.html, as it does not store any storage\n",
        "logits = h @ W2 + b2 # [32,27]\n",
        "loss = F.cross_entropy(logits, Ydev) #classification efficient loss function always use this one for Class.\n",
        "print(loss.item())"
      ],
      "metadata": {
        "colab": {
          "base_uri": "https://localhost:8080/"
        },
        "id": "5IIODXVKcx3q",
        "outputId": "644753cf-f227-452a-85e9-f07d6ab5786b"
      },
      "execution_count": 173,
      "outputs": [
        {
          "output_type": "stream",
          "name": "stdout",
          "text": [
            "2.1453044414520264\n"
          ]
        }
      ]
    },
    {
      "cell_type": "code",
      "source": [
        "plt.figure(figsize=(8,8))\n",
        "plt.scatter(C[:,0].data, C[:,1].data, s=200)\n",
        "for i in range(27):\n",
        "  plt.text(C[i,0].item(), C[i,1].item(), itos[i], ha=\"center\", va=\"center\", color=\"white\")\n",
        "plt.grid('minor')"
      ],
      "metadata": {
        "id": "Y50gwfHqjBfA",
        "outputId": "77c8e45d-fb0f-44cb-a119-c96a920ca20c",
        "colab": {
          "base_uri": "https://localhost:8080/",
          "height": 634
        }
      },
      "execution_count": 174,
      "outputs": [
        {
          "output_type": "display_data",
          "data": {
            "text/plain": [
              "<Figure size 800x800 with 1 Axes>"
            ],
            "image/png": "[encoded data removed]"
          },
          "metadata": {}
        }
      ]
    },
    {
      "cell_type": "code",
      "source": [
        "# training (use for  learining param/optimization), dev (use for hyperparameter optimization parameter), test splits (use for output/inference checking purpose).\n",
        "# 80%, 10%, 10%"
      ],
      "metadata": {
        "colab": {
          "base_uri": "https://localhost:8080/"
        },
        "id": "xF8wIqrsIOiN",
        "outputId": "6c233b2c-00aa-40be-b021-59c14e687e0a"
      },
      "execution_count": 77,
      "outputs": [
        {
          "output_type": "execute_result",
          "data": {
            "text/plain": [
              "tensor(17.7697, grad_fn=<NllLossBackward0>)"
            ]
          },
          "metadata": {},
          "execution_count": 77
        }
      ]
    },
    {
      "cell_type": "code",
      "source": [
        "# sample/inference from the model\n",
        "block_size = 3 # context length: how many characters do we take to predict the next one?\n",
        "g = torch.Generator().manual_seed(2147483647 + 10)\n",
        "\n",
        "for _ in range(20):\n",
        "\n",
        "  out = []\n",
        "  context = [0] * block_size # initialize with all\n",
        "  while True:\n",
        "    # forward pass\n",
        "    emb = C[torch.tensor([context])] # (1,block_size,d)\n",
        "    h = torch.tanh(emb.view(1, -1) @ W1 + b1)\n",
        "    logits = h @ W2 + b2\n",
        "    probs = F.softmax(logits, dim=1)\n",
        "    ix = torch.multinomial(probs, num_samples=1, replacement=True, generator=g).item()\n",
        "    context = context[1:] + [ix]\n",
        "    out.append(ix)\n",
        "    if ix == 0:\n",
        "      break\n",
        "  print(''.join(itos[i] for i in out)) # decode and print the generated word"
      ],
      "metadata": {
        "colab": {
          "base_uri": "https://localhost:8080/"
        },
        "id": "v3YjTTHhKB_U",
        "outputId": "fc3be330-fe9b-4fd1-da86-2cdba3f2519a"
      },
      "execution_count": 176,
      "outputs": [
        {
          "output_type": "stream",
          "name": "stdout",
          "text": [
            "montalmyah.\n",
            "seel.\n",
            "nihaham.\n",
            "remman.\n",
            "emdrie.\n",
            "razeeko.\n",
            "eliah.\n",
            "mikoealeigh.\n",
            "samanareelyziah.\n",
            "kamin.\n",
            "shubergani.\n",
            "jest.\n",
            "jaireelynn.\n",
            "noelofio.\n",
            "zayven.\n",
            "kylene.\n",
            "eli.\n",
            "kayshaykeyah.\n",
            "hal.\n",
            "samyah.\n"
          ]
        }
      ]
    },
    {
      "cell_type": "code",
      "source": [],
      "metadata": {
        "id": "v_LQ5plU9T2_"
      },
      "execution_count": null,
      "outputs": []
    }
  ]
}