{
  "nbformat": 4,
  "nbformat_minor": 0,
  "metadata": {
    "colab": {
      "provenance": [],
      "authorship_tag": "ABX9TyOTKNKY5/5j9yE82BozWHeX",
      "include_colab_link": true
    },
    "kernelspec": {
      "name": "python3",
      "display_name": "Python 3"
    },
    "language_info": {
      "name": "python"
    }
  },
  "cells": [
    {
      "cell_type": "markdown",
      "metadata": {
        "id": "view-in-github",
        "colab_type": "text"
      },
      "source": [
        "<a href=\"https://colab.research.google.com/github/SanyamSwami123/make-more-series-andrej-karpathy/blob/main/4_Activation_gradient_batchNorm.ipynb\" target=\"_parent\"><img src=\"https://colab.research.google.com/assets/colab-badge.svg\" alt=\"Open In Colab\"/></a>"
      ]
    },
    {
      "cell_type": "markdown",
      "source": [
        "**Previous work**: In 3 series we did the MLP, we have use the 3 previous character to produce the 4 character in series.\n",
        "\n",
        "# RNN, LSTM, GRU\n",
        "- Now we will going to Use the RNN, LSTM, and GRU which is more complex.\n",
        "\n",
        "1. **Recurrent Neural Network**:\n",
        "- **Purpose**: Designed to process sequential data by maintaining a hidden state that evolves over time, allowing the network to use information from previous time steps.\n",
        "  - **EXAMPLE**:\n",
        "    - Regular RNNs are like building a simple tower with toy blocks where each block sticks to the one below it:\n",
        "      - How It Works: Every time you add a new block, you remember the blocks below it. But if your tower gets really tall, you might forget what’s at the bottom because it's too far back.\n",
        "      - Problem: If your tower is very tall, you might forget some important blocks at the bottom, which makes it hard to remember the whole thing.\n",
        "\n",
        "2. **Gated Recurrent Units (GRUs)**:\n",
        "- A type of RNN designed to address some of the limitations of standard RNNs, such as the vanishing gradient problem, while being simpler than LSTMs.\n",
        "  - **EXAMPLE**\n",
        "    - GRUs are like building a tower with special joints that help you remember better:\n",
        "      - How It Works: Each block has smart joints that can decide to keep or forget certain parts of the tower. These joints help you remember important parts without getting too complicated.\n",
        "\n",
        "      - Advantage: GRUs are simpler and faster. They use fewer special joints, which makes building easier and quicker.\n",
        "\n",
        "3. **Long Short Term Memory (LSTMs):**\n",
        "- Designed to capture long term dependencies and overcome the vanishing gradient problem more effectively than standard RNNs.\n",
        "\n",
        "- LSTMs are like building an advanced tower with memory slots:\n",
        "\n",
        "  - How It Works: This tower has separate memory slots that keep track of different parts of the tower and smart doors that decide what to keep or forget. This way, you can remember everything, even if the tower is super tall.\n",
        "\n",
        "  - Advantage: LSTMs can remember really long towers and keep track of all the details, making them great for remembering long sequences of blocks.\n",
        "\n",
        "**SUMMARY**:\n",
        "1. **Regular RNNS**: Simple and good for small towers but forgetful with tall ones.\n",
        "2. **GRUs:** Smarter joints that help remember better and are easier to use, Not use for complex towers.\n",
        "3. **LSTMs:** Super advanced, works same as GRUs but use for long and complex towers."
      ],
      "metadata": {
        "id": "cskiqlRo8dlv"
      }
    },
    {
      "cell_type": "code",
      "execution_count": null,
      "metadata": {
        "id": "Jtx4wJTu7iOb"
      },
      "outputs": [],
      "source": [
        "import random\n",
        "\n",
        "import torch\n",
        "import torch.nn.functional as F\n",
        "import matplotlib.pyplot as plt # for making figures\n",
        "%matplotlib inline"
      ]
    },
    {
      "cell_type": "code",
      "source": [
        "# read in all the words\n",
        "words = open('names.txt', 'r').read().splitlines()\n",
        "words[:8]"
      ],
      "metadata": {
        "colab": {
          "base_uri": "https://localhost:8080/"
        },
        "id": "vBPZ5ikLF__0",
        "outputId": "d6b96714-cf30-4703-d8ab-c1b34856fdc4"
      },
      "execution_count": null,
      "outputs": [
        {
          "output_type": "execute_result",
          "data": {
            "text/plain": [
              "['emma', 'olivia', 'ava', 'isabella', 'sophia', 'charlotte', 'mia', 'amelia']"
            ]
          },
          "metadata": {},
          "execution_count": 3
        }
      ]
    },
    {
      "cell_type": "code",
      "source": [
        "# build the vocabulary of characters and mapping to/from integers\n",
        "Chars = sorted(list(set(''.join(words))))\n",
        "stoi = {s:i+1 for i,s in enumerate(Chars)}\n",
        "stoi['.'] = 0\n",
        "itos = {i:s for s,i in stoi.items()}\n",
        "vocab_size = len(itos)\n",
        "print(itos)\n",
        "print(vocab_size)"
      ],
      "metadata": {
        "colab": {
          "base_uri": "https://localhost:8080/"
        },
        "id": "Psud4qtLGBnM",
        "outputId": "f6fa0bbc-d0b9-4cb0-f589-13bc0dfd2ece"
      },
      "execution_count": null,
      "outputs": [
        {
          "output_type": "stream",
          "name": "stdout",
          "text": [
            "{1: 'a', 2: 'b', 3: 'c', 4: 'd', 5: 'e', 6: 'f', 7: 'g', 8: 'h', 9: 'i', 10: 'j', 11: 'k', 12: 'l', 13: 'm', 14: 'n', 15: 'o', 16: 'p', 17: 'q', 18: 'r', 19: 's', 20: 't', 21: 'u', 22: 'v', 23: 'w', 24: 'x', 25: 'y', 26: 'z', 0: '.'}\n",
            "27\n"
          ]
        }
      ]
    },
    {
      "cell_type": "code",
      "source": [
        "block_size = 3 # context length: how many characters do we take to predict the next one?\n",
        "# build dataset\n",
        "def build_dataset(words):\n",
        "  block_size = 3 # context length: how many characters do we take to predict the next one?\n",
        "  X, Y = [], []\n",
        "  for w in words:\n",
        "\n",
        "    # print(w)\n",
        "    context  = [0] * block_size # padded context of 0 tokens\n",
        "    for ch in w + '.':\n",
        "      ix = stoi[ch]\n",
        "      X.append(context)\n",
        "      Y.append(ix)\n",
        "      # print(''.join(itos[i] for i in context), '--->', itos[ix])\n",
        "      context = context[1:] + [ix] # crop and append\n",
        "  X = torch.tensor(X)\n",
        "  Y = torch.tensor(Y)\n",
        "  print(X.shape, Y.shape)\n",
        "  return X,Y\n",
        "\n",
        "\n",
        "random.seed(42)\n",
        "random.shuffle(words)\n",
        "n1 = int(0.8*len(words))\n",
        "n2 = int(0.9*len(words))\n",
        "\n",
        "Xtr, Ytr = build_dataset(words[:n1]) # 80%\n",
        "Xdev, Ydev = build_dataset(words[n1:n2])# 10%\n",
        "Xte, Yte = build_dataset(words[n2:])# 10%"
      ],
      "metadata": {
        "colab": {
          "base_uri": "https://localhost:8080/"
        },
        "id": "vVd_z2NdGOZM",
        "outputId": "f082b943-4e59-4bc3-be8a-0b604a0e7a7a"
      },
      "execution_count": null,
      "outputs": [
        {
          "output_type": "stream",
          "name": "stdout",
          "text": [
            "torch.Size([182625, 3]) torch.Size([182625])\n",
            "torch.Size([22655, 3]) torch.Size([22655])\n",
            "torch.Size([22866, 3]) torch.Size([22866])\n"
          ]
        }
      ]
    },
    {
      "cell_type": "code",
      "source": [
        "# MLP revisited\n",
        "n_embd = 10 # the dimensionality of the character embedding vectors.\n",
        "n_hidden = 200 # the number of neurons in the hidden layer of the MLP\n",
        "\n",
        "g = torch.Generator().manual_seed(2147483647) # for reproducibility\n",
        "C = torch.randn((vocab_size, n_embd), generator=g)# lookup table so each one of 27 chars we have 2 dimensions\n",
        "W1 = torch.randn((n_embd * block_size, n_hidden), generator=g) * ((5/3)/(n_embd * block_size)**0.5) # we are passing this layer (3,2) thus input will  be 6 note: ( , ) here 1st dimension ie first place always takes input and 2nd place takes the no. neuron\n",
        "b1 = torch.randn(n_hidden, generator=g) * 0.01\n",
        "W2 = torch.randn((n_hidden, vocab_size), generator= g) * 0.01 #final layer softmax\n",
        "b2 = torch.randn(vocab_size, generator= g) * 0\n",
        "\n",
        "# below are going to use for scale and shift\n",
        "bngain = torch.ones((1, n_hidden)) #* 0.1 + 1.0\n",
        "bnbias = torch.zeros((1, n_hidden)) #* 0.1\n",
        "bnmean_running = torch.zeros((1, n_hidden))\n",
        "bnstd_running = torch.ones((1, n_hidden))\n",
        "\n",
        "# bnmean_running = torch.zeros((1, n_hidden))\n",
        "# bnstd_running = torch.ones((1, n_hidden))\n",
        "# formula helps to avoid saturation, gain/ root(fenin) (5/3)/ (30**0.5) (5/3)/(n_embd * block_size)**0.5\n",
        "\n",
        "parameters = [C, W1, b1, W2, b2, bngain, bnbias]\n",
        "print(sum(p.nelement() for p in parameters)) # number of parameters in total\n",
        "for p in parameters:\n",
        "  p.requires_grad = True"
      ],
      "metadata": {
        "colab": {
          "base_uri": "https://localhost:8080/"
        },
        "id": "02ArTQw4Gbp2",
        "outputId": "8a3c8b92-e430-4f4e-ff8c-cbb0c4fd14ad"
      },
      "execution_count": null,
      "outputs": [
        {
          "output_type": "stream",
          "name": "stdout",
          "text": [
            "12297\n"
          ]
        }
      ]
    },
    {
      "cell_type": "code",
      "source": [
        "'''x = torch.randn(1000, 10)\n",
        "w = torch.randn(10, 200)\n",
        "y = x @ w\n",
        "print(x.mean(), x.std())\n",
        "print(y.mean(), y.std())\n",
        "plt.figure(figsize=(20, 5))\n",
        "plt.subplot(121)\n",
        "plt.hist(x.view(-1).tolist(),50, density = True)\n",
        "plt.subplot(122)\n",
        "plt.hist(y.view(-1).tolist(), 50,density=True)'''"
      ],
      "metadata": {
        "colab": {
          "base_uri": "https://localhost:8080/",
          "height": 688
        },
        "id": "9fpwRAMP0E-r",
        "outputId": "31e5db4b-65ab-4d42-cfe6-130faddc5cdc"
      },
      "execution_count": null,
      "outputs": [
        {
          "output_type": "stream",
          "name": "stdout",
          "text": [
            "tensor(0.0184) tensor(1.0028)\n",
            "tensor(-0.0125) tensor(3.2056)\n"
          ]
        },
        {
          "output_type": "execute_result",
          "data": {
            "text/plain": [
              "(array([2.01393069e-05, 1.34262046e-05, 1.34262046e-05, 2.01393069e-05,\n",
              "        6.04179207e-05, 6.04179207e-05, 2.14819274e-04, 1.94679967e-04,\n",
              "        4.76630264e-04, 8.25711583e-04, 1.30234185e-03, 2.36301201e-03,\n",
              "        3.60493594e-03, 5.76655488e-03, 8.55920544e-03, 1.31375412e-02,\n",
              "        1.99312007e-02, 2.96517729e-02, 4.20441597e-02, 5.81891708e-02,\n",
              "        7.64823745e-02, 9.63397312e-02, 1.18197592e-01, 1.30724241e-01,\n",
              "        1.38800103e-01, 1.31690928e-01, 1.16217227e-01, 9.41244074e-02,\n",
              "        7.41126494e-02, 5.58597243e-02, 3.99966635e-02, 2.85843896e-02,\n",
              "        1.93673001e-02, 1.29965661e-02, 8.74045920e-03, 5.40404735e-03,\n",
              "        3.31627254e-03, 2.02064379e-03, 1.16136670e-03, 8.12285379e-04,\n",
              "        4.09499241e-04, 2.95376501e-04, 2.41671683e-04, 1.40975148e-04,\n",
              "        4.02786138e-05, 3.35655115e-05, 3.35655115e-05, 1.34262046e-05,\n",
              "        6.71310230e-06, 6.71310230e-06]),\n",
              " array([-18.22365952, -17.47884739, -16.73403526, -15.98922314,\n",
              "        -15.24441101, -14.49959888, -13.75478676, -13.00997463,\n",
              "        -12.26516251, -11.52035038, -10.77553825, -10.03072613,\n",
              "         -9.285914  ,  -8.54110188,  -7.79628975,  -7.05147762,\n",
              "         -6.3066655 ,  -5.56185337,  -4.81704124,  -4.07222912,\n",
              "         -3.32741699,  -2.58260487,  -1.83779274,  -1.09298061,\n",
              "         -0.34816849,   0.39664364,   1.14145576,   1.88626789,\n",
              "          2.63108002,   3.37589214,   4.12070427,   4.8655164 ,\n",
              "          5.61032852,   6.35514065,   7.09995277,   7.8447649 ,\n",
              "          8.58957703,   9.33438915,  10.07920128,  10.8240134 ,\n",
              "         11.56882553,  12.31363766,  13.05844978,  13.80326191,\n",
              "         14.54807404,  15.29288616,  16.03769829,  16.78251041,\n",
              "         17.52732254,  18.27213467,  19.01694679]),\n",
              " <BarContainer object of 50 artists>)"
            ]
          },
          "metadata": {},
          "execution_count": 15
        },
        {
          "output_type": "display_data",
          "data": {
            "text/plain": [
              "<Figure size 2000x500 with 2 Axes>"
            ],
            "image/png": "[encoded data removed]"
          },
          "metadata": {}
        }
      ]
    },
    {
      "cell_type": "code",
      "source": [
        "# print(list(p.nelement() for p in parameters)) #size of paramtere will be sum [270, 6000, 200, 5400, 27]."
      ],
      "metadata": {
        "colab": {
          "base_uri": "https://localhost:8080/"
        },
        "id": "gbmxjI5pIkfu",
        "outputId": "19c610e3-232a-4817-f1ff-337e468034a0"
      },
      "execution_count": null,
      "outputs": [
        {
          "output_type": "stream",
          "name": "stdout",
          "text": [
            "[270, 6000, 200, 5400, 27]\n"
          ]
        }
      ]
    },
    {
      "cell_type": "code",
      "source": [],
      "metadata": {
        "id": "VcDvA2bgf__f"
      },
      "execution_count": null,
      "outputs": []
    },
    {
      "cell_type": "code",
      "source": [
        "# training loop\n",
        "max_steps = 200000\n",
        "batch_size = 32\n",
        "loss1= []\n",
        "\n",
        "for _ in  range(max_steps):\n",
        "\n",
        "  # minibatch construct\n",
        "  ix = torch.randint(0, Xtr.shape[0], (batch_size,), generator=g)\n",
        "  Xb, Yb = Xtr[ix] , Ytr[ix] # batch X,Y\n",
        "\n",
        "  # forward pass\n",
        "  emb = C[Xb] #embed the characters into vectors # [32,3,2] emb.shape # 3 inputs with 27 character each located at 2 dimensions\n",
        "  embcat = emb.view(emb.shape[0], -1) # concat the vectors\n",
        "\n",
        "  #linear layer\n",
        "  hpre_act = embcat @ W1 + b1 # hidden layer pre-activation\n",
        "\n",
        "\n",
        "  #batch normalizaton/standerdization\n",
        "  #----------------------------------------------------------\n",
        "  # we have scale and shift (scaling batch with sum value/gain and adding bias)\n",
        "  bmeani = hpre_act.mean(0, keepdim=True)\n",
        "  bstdi = hpre_act.std(0, keepdim=True)\n",
        "  hpre_act = bngain * (hpre_act - bmeani) / bstdi + bnbias\n",
        "\n",
        "  with torch.no_grad():\n",
        "    bnmean_running = 0.999 * bnmean_running + 0.001 * bmeani\n",
        "    bnstd_running = 0.999 * bnstd_running + 0.001 * bstdi\n",
        "  #----------------------------------------------------------\n",
        "  # Non-linearity\n",
        "  h = torch.tanh(hpre_act) # hidden layer # [32,100] view is more efficient way then torch.cat(torch.unbind(emb, 1), 1)# resource:https://pytorch.org/docs/stable/generated/torch.unbind.html, as it does not store any storage\n",
        "  logits = h @ W2 + b2 # output layer # [32,27]\n",
        "  loss = F.cross_entropy(logits, Yb) # loss function #classification efficient loss function always use this one for Class.\n",
        "\n",
        "  # backward pass\n",
        "  for p in parameters:\n",
        "    p.grad = None\n",
        "  loss.backward()\n",
        "\n",
        "  #step/update the params\n",
        "  lr= 0.1 if _<100000 else 0.01 # learning rate decay\n",
        "  for p in parameters:\n",
        "    p.data += -lr * p.grad # find good lre you will find different and more good ways online\n",
        "\n",
        "  # track stats\n",
        "  if _ % 10000 == 0: # print every once in a while\n",
        "    print(f'{_:7d}/{max_steps:7d} {loss.item():.4f}')\n",
        "  loss1.append(loss.log10().item())\n",
        "\n",
        "\n",
        "# print(loss.item())"
      ],
      "metadata": {
        "colab": {
          "base_uri": "https://localhost:8080/"
        },
        "id": "4kPkMmDCIrPG",
        "outputId": "39108378-e19a-4eab-ee79-71f02b3a48f2"
      },
      "execution_count": null,
      "outputs": [
        {
          "metadata": {
            "tags": null
          },
          "name": "stdout",
          "output_type": "stream",
          "text": [
            "      0/ 200000 3.3147\n",
            "  10000/ 200000 2.1984\n",
            "  20000/ 200000 2.3375\n",
            "  30000/ 200000 2.4359\n",
            "  40000/ 200000 2.0119\n",
            "  50000/ 200000 2.2595\n",
            "  60000/ 200000 2.4775\n",
            "  70000/ 200000 2.1020\n",
            "  80000/ 200000 2.2788\n",
            "  90000/ 200000 2.1862\n",
            " 100000/ 200000 1.9474\n",
            " 110000/ 200000 2.3010\n",
            " 120000/ 200000 1.9837\n",
            " 130000/ 200000 2.4523\n",
            " 140000/ 200000 2.3839\n",
            " 150000/ 200000 2.1987\n",
            " 160000/ 200000 1.9733\n",
            " 170000/ 200000 1.8668\n",
            " 180000/ 200000 1.9973\n",
            " 190000/ 200000 1.8347\n"
          ]
        }
      ]
    },
    {
      "cell_type": "code",
      "source": [
        "plt.plot(loss1)"
      ],
      "metadata": {
        "colab": {
          "base_uri": "https://localhost:8080/",
          "height": 447
        },
        "id": "BYr3-ug9OMfT",
        "outputId": "2d09b460-27a9-4ce1-a9ba-291ad48deeb9"
      },
      "execution_count": null,
      "outputs": [
        {
          "output_type": "execute_result",
          "data": {
            "text/plain": [
              "[<matplotlib.lines.Line2D at 0x7f143d614070>]"
            ]
          },
          "metadata": {},
          "execution_count": 19
        },
        {
          "output_type": "display_data",
          "data": {
            "text/plain": [
              "<Figure size 640x480 with 1 Axes>"
            ],
            "image/png": "[encoded data removed]"
          },
          "metadata": {}
        }
      ]
    },
    {
      "cell_type": "markdown",
      "source": [
        "**calibrate the batch norm at the end of the tarining.**\n"
      ],
      "metadata": {
        "id": "JLiifgpdo7p6"
      }
    },
    {
      "cell_type": "code",
      "source": [
        "with torch.no_grad():\n",
        "  emb = C[Xtr]\n",
        "  embcat = emb.view(emb.shape[0], -1)\n",
        "  hpre_act = embcat @ W1 + b1\n",
        "\n",
        "  # measure the mean/std over the entire training set\n",
        "  bmean = hpre_act.mean(0, keepdim=True)\n",
        "  bstd = hpre_act.std(0, keepdim=True)"
      ],
      "metadata": {
        "id": "0VbfBiB-pPcd"
      },
      "execution_count": null,
      "outputs": []
    },
    {
      "cell_type": "code",
      "source": [
        "@torch.no_grad() # this decorator disables gradient tracking\n",
        "def split_loss(split):\n",
        "  x, y = {\n",
        "    'train': (Xtr, Ytr),\n",
        "    'val': (Xdev, Ydev),\n",
        "    'test': (Xte, Yte),\n",
        "  }[split]\n",
        "  emb = C[x] # (N,block_size, n_embd)\n",
        "  embcat = emb.view(emb.shape[0], -1) # concat into (N, block_size*n_embd)\n",
        "\n",
        "  hpre_act = embcat @ W1 + b1\n",
        "  hpre_act = bngain * (hpre_act - bnmean_running) / bnstd_running + bnbias\n",
        "\n",
        "  h = torch.tanh(hpre_act) # (N, n_hidden)\n",
        "  logits = h @ W2 + b2 # (N, vocab_size)\n",
        "  loss = F.cross_entropy(logits, y)\n",
        "  print(split, loss.item())\n",
        "\n",
        "split_loss('train')\n",
        "split_loss('val')"
      ],
      "metadata": {
        "colab": {
          "base_uri": "https://localhost:8080/"
        },
        "id": "fu56gxAXQHh3",
        "outputId": "a7b3387d-4a66-4540-ace5-f63cdbf4e68d"
      },
      "execution_count": null,
      "outputs": [
        {
          "output_type": "stream",
          "name": "stdout",
          "text": [
            "train 2.06659197807312\n",
            "val 2.1050572395324707\n"
          ]
        }
      ]
    },
    {
      "cell_type": "code",
      "source": [
        "# sample from the model\n",
        "g = torch.Generator().manual_seed(2147483647 + 10)\n",
        "\n",
        "for _ in range(20):\n",
        "\n",
        "  out = []\n",
        "  context = [0] * block_size # initialize with all ...\n",
        "  while True:\n",
        "    # forward pass\n",
        "    emb = C[torch.tensor([context])] # (1,block_size, n_embd)\n",
        "    h = torch.tanh(emb.view(1, -1) @ W1 + b1)\n",
        "    logits = h @ W2 + b2\n",
        "    probs = F.softmax(logits, dim=1)\n",
        "    # sample from the distribution\n",
        "    ix = torch.multinomial(probs, num_samples=1, generator=g).item()\n",
        "    # shift the context window and track the samples.\n",
        "    context = context[1:] + [ix]\n",
        "    out.append(ix)\n",
        "    # if we sample the special '.' token, break\n",
        "    if ix == 0:\n",
        "      break\n",
        "  print(''.join(itos[i] for i in out))"
      ],
      "metadata": {
        "colab": {
          "base_uri": "https://localhost:8080/"
        },
        "id": "8kb0qM1oiaGq",
        "outputId": "485ab840-f070-4d53-f17d-45ce2026e9d7"
      },
      "execution_count": null,
      "outputs": [
        {
          "output_type": "stream",
          "name": "stdout",
          "text": [
            "mora.\n",
            "mayanniellend.\n",
            "rylla.\n",
            "emmaniendra.\n",
            "gradelyn.\n",
            "eliah.\n",
            "milophrekelson.\n",
            "anarlelyn.\n",
            "malqiann.\n",
            "shuberg.\n",
            "himier.\n",
            "kindreelynn.\n",
            "nicaori.\n",
            "breyven.\n",
            "jamelizeha.\n",
            "kayjahsanyamihaan.\n",
            "alynn.\n",
            "june.\n",
            "jolee.\n",
            "ren.\n"
          ]
        }
      ]
    },
    {
      "cell_type": "markdown",
      "source": [
        "# Pytorchifying the code"
      ],
      "metadata": {
        "id": "zyJ1COwckIBG"
      }
    },
    {
      "cell_type": "code",
      "source": [
        "class Linear:\n",
        "  def __init__(self, fan_in, fan_out, bias=True):\n",
        "    self.weight = torch.randn((fan_in, fan_out)) / fan**0.5\n",
        "    self.bias = torch.zeros(fan_out) if bias else None\n",
        "\n",
        "  def __call__(self, x):\n",
        "    self.out = x @ self.weight\n",
        "    if self.bias is not None:\n",
        "      self.out += self.bias\n",
        "    return self.out\n",
        "\n",
        "  def parameters(self):\n",
        "    return [self.weight] + ([] if self.bias is None else [self.bias])\n",
        "\n",
        "\n",
        "class BatchNorm1d:\n",
        "  def __init__(self, dim, eps=1e-5, momentum=0.1):\n",
        "    self.eps = eps\n",
        "    self.momentum = momentum\n",
        "    self.training = True\n",
        "    # parameters (trained with backprop)\n",
        "    self.gamma = torch.ones(dim)\n",
        "    self.beta = torch.zeros(dim)\n",
        "    # buffers (trained with a running 'momentum update')\n",
        "    self.running_mean = torch.zeros(dim)\n",
        "    self.running_var = torch.ones(dim)\n",
        "\n",
        "    def __call__(self, x):\n",
        "    # calculate the forward\n",
        "    if self.training:\n",
        "      xmean = x.mean(0, keepdim=True) # batch mean\n",
        "      xvar = x.var(0, keepdim=True, unbiased= True) # batch variance\n",
        "    else:\n",
        "      xmean = self.running_mean\n",
        "      xvar = self.running_var\n",
        "    xhat = (x - xmean) / torch.sqrt(xvar + self.eps) # normalize to unit variance\n",
        "    self.out = self.gamma * xhat + self.beta\n",
        "    # update the buffers\n",
        "    if self.training:\n",
        "      with torch.no_grad():\n",
        "        self.running_mean = (1 - self.momentum) * self.running_mean + self.momentum * xmean\n",
        "        self.running_var = (1 - self.momentum) * self.running_var + self.momentum * xvar\n",
        "    return self.out\n",
        "\n",
        "    def parameters(self):\n",
        "    return [self.gamma, self.beta]\n",
        "\n",
        "class Tanh:\n",
        "  def __call__(self, x):\n",
        "    self.out = torch.tanh(x)\n",
        "    return self.out\n",
        "  def parameters(self):\n",
        "    return []\n",
        "\n",
        "\n",
        "n_embd = 10 # the dimensionality of the character embedding vectors.\n",
        "n_hidden = 100 # the number of neurons in the hidden layer of the MLP\n",
        "\n",
        "g = torch.Generator().manual_seed(2147483647) # for reproducibility\n",
        "\n",
        "C = torch.randn((vocab_size, n_embd), generator=g)# lookup table so each one of 27 chars we have 2 dimensions\n",
        "layers = [\n",
        "  Linear(n_embd * block_size, n_hidde), Tanh(),\n",
        "  Linear(n_hidden, n_hidden), Tanh(),\n",
        "  Linear(n_hidden, vocab_size), Tanh(),\n",
        "  Linear(n_hidden, n_hidden), Tanh(),\n",
        "  Linear(n_hidden, n_hidden), Tanh(),\n",
        "  Linear(n_hidden, vocab_size),\n",
        "]\n",
        "\n",
        "with torch.no_grad():\n",
        "  # last layer: make less confident\n",
        "  layers[-1].gamma *= 0.1\n",
        "\n",
        "  # all other layers: apply gain\n",
        "  for layer in layers[:-1]:\n",
        "    if isinstance(layer, Linear):\n",
        "      layer.weight *= 5/3\n",
        "\n",
        "parameters = [C] + [p for layer in layers for p in layer.parameters()]\n",
        "print(sum(p.nelement() for p in parameters)) # number of parameters in total\n",
        "for p in parameters:\n",
        "  p.requires_grad = True"
      ],
      "metadata": {
        "id": "rQ4Iz33zi7XB"
      },
      "execution_count": null,
      "outputs": []
    }
  ]
}